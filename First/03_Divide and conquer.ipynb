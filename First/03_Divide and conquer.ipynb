{
  "cells": [
    {
      "attachments": {},
      "cell_type": "markdown",
      "metadata": {},
      "source": [
        "### Divide and conquer paradigm\n",
        "1. Divide into smaller subproblem\n",
        "2. Conquer recursive calls\n",
        "3. Combine sub solutions into the original problem"
      ]
    },
    {
      "attachments": {},
      "cell_type": "markdown",
      "metadata": {},
      "source": [
        "Problem 1: Array A contains integers in some arbitrary order\n",
        "\n",
        "Output: number of inversions, pair of array index i,j with i smaller than j where A[i]>A[j]\n",
        "\n",
        "Worst case is the array is reversed so $$n(n-1)/2$$"
      ]
    },
    {
      "cell_type": "code",
      "execution_count": null,
      "metadata": {},
      "outputs": [],
      "source": []
    },
    {
      "cell_type": "code",
      "execution_count": 315,
      "metadata": {},
      "outputs": [
        {
          "name": "stdout",
          "output_type": "stream",
          "text": [
            "[61, 76, 38, 48, 32, 4, 38, 29, 64, 92, 71, 34, 73, 74, 78, 45, 85, 35, 31, 87, 77, 78, 10, 60, 5, 41, 66, 56, 30, 75, 36, 44, 95, 20, 60, 52, 49, 67, 2, 53, 53, 24, 17, 96, 17, 96, 29, 29, 83, 29, 92, 17, 31, 16, 24, 75, 87, 36, 56, 13, 57, 33, 72, 91, 27, 49, 85, 30, 13, 69, 33, 30, 44, 75, 37, 96, 22, 46, 95, 63, 67, 89, 34, 63, 23, 95, 2, 10, 53, 67, 92, 15, 95, 30, 46, 8, 44, 78, 76, 63]\n",
            "([2, 2, 4, 5, 8, 10, 10, 13, 13, 15, 16, 17, 17, 17, 20, 22, 23, 24, 24, 27, 29, 29, 29, 29, 30, 30, 30, 30, 31, 31, 32, 33, 33, 34, 34, 35, 36, 36, 37, 38, 38, 41, 44, 44, 44, 45, 46, 46, 48, 49, 49, 52, 53, 53, 53, 56, 56, 57, 60, 60, 61, 63, 63, 63, 64, 66, 67, 67, 67, 69, 71, 72, 73, 74, 75, 75, 75, 76, 76, 77, 78, 78, 78, 83, 85, 85, 87, 87, 89, 91, 92, 92, 92, 95, 95, 95, 95, 96, 96, 96], 2512)\n",
            "(1614, 13404) 0.0020427703857421875\n"
          ]
        }
      ],
      "source": [
        "import tracemalloc\n",
        "import random\n",
        "import time\n",
        "\n",
        "# Similarity measure\n",
        "def sort_and_count(array):\n",
        "  n = len(array)\n",
        "  if(n>1):\n",
        "    l,x = sort_and_count(array[:n//2])\n",
        "    r,y = sort_and_count(array[n//2:])\n",
        "    i=j=k=0\n",
        "    count=0+x+y\n",
        "    split=[0 for x in range(n)]\n",
        "    while i < len(l) and j<len(r):\n",
        "      if l[i] < r[j]:\n",
        "        split[k]=l[i]\n",
        "        i+=1\n",
        "      else:\n",
        "        split[k]=r[j]\n",
        "        count+=len([0 for x in range(i,len(l))])\n",
        "        j+=1\n",
        "      k+=1\n",
        "\n",
        "    while i < len(l):\n",
        "      split[k]=l[i]\n",
        "      i+=1\n",
        "      k+=1\n",
        "\n",
        "    while j < len(r):\n",
        "      split[k]=r[j]\n",
        "      j+=1\n",
        "      k+=1\n",
        "    return [*split],count \n",
        "  return array,0\n",
        "\n",
        "\n",
        "\n",
        "test = [random.randint(0,100) for x in range(100) ]\n",
        "# test = [1,3,5,2,4,6]\n",
        "tracemalloc.start()\n",
        "start_time = time.time()\n",
        "print(sort_and_count(test))\n",
        "print(tracemalloc.get_traced_memory(), time.time()-start_time)\n",
        "tracemalloc.stop()\n",
        "tracemalloc.clear_traces()"
      ]
    }
  ],
  "metadata": {
    "kernelspec": {
      "display_name": "Python 3",
      "language": "python",
      "name": "python3"
    },
    "language_info": {
      "codemirror_mode": {
        "name": "ipython",
        "version": 3
      },
      "file_extension": ".py",
      "mimetype": "text/x-python",
      "name": "python",
      "nbconvert_exporter": "python",
      "pygments_lexer": "ipython3",
      "version": "3.11.1"
    },
    "orig_nbformat": 4,
    "vscode": {
      "interpreter": {
        "hash": "fddb92d10c9cf6934e2d5e8f8a29ae8ed7d42a938c47f3b80f7acb86ecc55e76"
      }
    }
  },
  "nbformat": 4,
  "nbformat_minor": 4
}
