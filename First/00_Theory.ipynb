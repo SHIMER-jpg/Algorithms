{
 "cells": [
  {
   "attachments": {},
   "cell_type": "markdown",
   "metadata": {},
   "source": [
    "### Asymptotic analysis \n",
    "Its an abstract way of designing algorithms suppressing architecture, language, and any other details, sharp enough to make use full comparisons between different algorithms.\n",
    "\n",
    ">*suppress constant factors and lower order terms*\n",
    ">- constant factors -> system dependent\n",
    ">- lower order terms -> irrelevant for large inputs\n",
    "\n",
    "For Merge sort we have a function equal to: \n",
    "\n",
    "$$6n*log_{2}n+6n$$ \n",
    "\n",
    "and since we are ignoring lower order terms and constant factors the big O notation (complexity) would be:\n",
    "$$O(log_{2}n)$$"
   ]
  },
  {
   "attachments": {},
   "cell_type": "markdown",
   "metadata": {},
   "source": [
    "### BIG O \n",
    "\n",
    "$$T(n) <= c*f(n)$$ \n",
    "for all $$n >=0$$\n",
    "Where $$C, n_{0}>0$$"
   ]
  },
  {
   "cell_type": "markdown",
   "metadata": {},
   "source": []
  }
 ],
 "metadata": {
  "kernelspec": {
   "display_name": "Python 3",
   "language": "python",
   "name": "python3"
  },
  "language_info": {
   "name": "python",
   "version": "3.11.1 (tags/v3.11.1:a7a450f, Dec  6 2022, 19:58:39) [MSC v.1934 64 bit (AMD64)]"
  },
  "orig_nbformat": 4,
  "vscode": {
   "interpreter": {
    "hash": "fddb92d10c9cf6934e2d5e8f8a29ae8ed7d42a938c47f3b80f7acb86ecc55e76"
   }
  }
 },
 "nbformat": 4,
 "nbformat_minor": 2
}
