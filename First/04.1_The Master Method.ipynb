{
  "cells": [
    {
      "attachments": {},
      "cell_type": "markdown",
      "metadata": {},
      "source": [
        "### The closest pair problem\n",
        "\n",
        "Input: A set of points in a real plane with 2 dimensons\n",
        "\n",
        "Euclidian distance: d(pi,pj), where distance $$\\sqrt{(x_{i}-x_{j})^2 + (y_{i}-y_{j})^2 }$$\n",
        "\n",
        "\n",
        "The expected output is a pair of distinct points that has the minimum d(pi,pj)\n",
        "\n",
        "Initial assumptions:\n",
        "  distinct x and y coordinates\n",
        "\n",
        "Brute force: takes O(n^2)\n",
        "\n",
        "For 1 dimensional points we would just sort them and then find if get the minimum distance between a point P and P-1\n",
        "1. Sort Points\n",
        "2. Return closest\n",
        "\n",
        "O(n log n) time\n",
        "\n",
        "1."
      ]
    },
    {
      "cell_type": "code",
      "execution_count": 58,
      "metadata": {},
      "outputs": [
        {
          "ename": "TypeError",
          "evalue": "filter expected 2 arguments, got 1",
          "output_type": "error",
          "traceback": [
            "\u001b[1;31m---------------------------------------------------------------------------\u001b[0m",
            "\u001b[1;31mTypeError\u001b[0m                                 Traceback (most recent call last)",
            "Cell \u001b[1;32mIn[58], line 55\u001b[0m\n\u001b[0;32m     51\u001b[0m   \u001b[39m#Distance divide and conquer\u001b[39;00m\n\u001b[0;32m     52\u001b[0m   \u001b[39m# return closest_pair(x_points,y_points)\u001b[39;00m\n\u001b[0;32m     53\u001b[0m   \u001b[39mreturn\u001b[39;00m closets_split_pair(x_points,y_points,\u001b[39m1000\u001b[39m)\n\u001b[1;32m---> 55\u001b[0m \u001b[39mprint\u001b[39m(min_distance([{\u001b[39m\"\u001b[39;49m\u001b[39mx\u001b[39;49m\u001b[39m\"\u001b[39;49m:\u001b[39m-\u001b[39;49m\u001b[39m1\u001b[39;49m,\u001b[39m\"\u001b[39;49m\u001b[39my\u001b[39;49m\u001b[39m\"\u001b[39;49m:\u001b[39m15\u001b[39;49m},{\u001b[39m\"\u001b[39;49m\u001b[39mx\u001b[39;49m\u001b[39m\"\u001b[39;49m:\u001b[39m0\u001b[39;49m,\u001b[39m\"\u001b[39;49m\u001b[39my\u001b[39;49m\u001b[39m\"\u001b[39;49m:\u001b[39m2\u001b[39;49m},{\u001b[39m\"\u001b[39;49m\u001b[39mx\u001b[39;49m\u001b[39m\"\u001b[39;49m:\u001b[39m1\u001b[39;49m,\u001b[39m\"\u001b[39;49m\u001b[39my\u001b[39;49m\u001b[39m\"\u001b[39;49m:\u001b[39m3\u001b[39;49m},{\u001b[39m\"\u001b[39;49m\u001b[39mx\u001b[39;49m\u001b[39m\"\u001b[39;49m:\u001b[39m2\u001b[39;49m,\u001b[39m\"\u001b[39;49m\u001b[39my\u001b[39;49m\u001b[39m\"\u001b[39;49m:\u001b[39m-\u001b[39;49m\u001b[39m20\u001b[39;49m},{\u001b[39m\"\u001b[39;49m\u001b[39mx\u001b[39;49m\u001b[39m\"\u001b[39;49m:\u001b[39m34\u001b[39;49m,\u001b[39m\"\u001b[39;49m\u001b[39my\u001b[39;49m\u001b[39m\"\u001b[39;49m:\u001b[39m2\u001b[39;49m},{\u001b[39m\"\u001b[39;49m\u001b[39mx\u001b[39;49m\u001b[39m\"\u001b[39;49m:\u001b[39m642\u001b[39;49m,\u001b[39m\"\u001b[39;49m\u001b[39my\u001b[39;49m\u001b[39m\"\u001b[39;49m:\u001b[39m-\u001b[39;49m\u001b[39m1\u001b[39;49m}]))\n",
            "Cell \u001b[1;32mIn[58], line 53\u001b[0m, in \u001b[0;36mmin_distance\u001b[1;34m(array)\u001b[0m\n\u001b[0;32m     49\u001b[0m y_points \u001b[39m=\u001b[39m \u001b[39msorted\u001b[39m(array,  key\u001b[39m=\u001b[39m\u001b[39mlambda\u001b[39;00m item: item[\u001b[39m\"\u001b[39m\u001b[39my\u001b[39m\u001b[39m\"\u001b[39m])\n\u001b[0;32m     51\u001b[0m \u001b[39m#Distance divide and conquer\u001b[39;00m\n\u001b[0;32m     52\u001b[0m \u001b[39m# return closest_pair(x_points,y_points)\u001b[39;00m\n\u001b[1;32m---> 53\u001b[0m \u001b[39mreturn\u001b[39;00m closets_split_pair(x_points,y_points,\u001b[39m1000\u001b[39;49m)\n",
            "Cell \u001b[1;32mIn[58], line 41\u001b[0m, in \u001b[0;36mclosets_split_pair\u001b[1;34m(px, py, delta)\u001b[0m\n\u001b[0;32m     39\u001b[0m \u001b[39mdef\u001b[39;00m \u001b[39mclosets_split_pair\u001b[39m(px,py,delta):\n\u001b[0;32m     40\u001b[0m   leftX \u001b[39m=\u001b[39m px[\u001b[39m0\u001b[39m]\n\u001b[1;32m---> 41\u001b[0m   sy \u001b[39m=\u001b[39m \u001b[39mlist\u001b[39m(\u001b[39mfilter\u001b[39;49m(\u001b[39mlambda\u001b[39;49;00m point: point[\u001b[39m\"\u001b[39;49m\u001b[39mx\u001b[39;49m\u001b[39m\"\u001b[39;49m]\u001b[39m-\u001b[39;49mdelta \u001b[39m<\u001b[39;49m point[\u001b[39m\"\u001b[39;49m\u001b[39mx\u001b[39;49m\u001b[39m\"\u001b[39;49m] \u001b[39m<\u001b[39;49mpoint[\u001b[39m\"\u001b[39;49m\u001b[39mx\u001b[39;49m\u001b[39m\"\u001b[39;49m]\u001b[39m+\u001b[39;49mdelta))\n\u001b[0;32m     42\u001b[0m   \u001b[39mprint\u001b[39m(sy)\n\u001b[0;32m     43\u001b[0m   \u001b[39mreturn\u001b[39;00m\n",
            "\u001b[1;31mTypeError\u001b[0m: filter expected 2 arguments, got 1"
          ]
        }
      ],
      "source": [
        "from math import sqrt\n",
        "\n",
        "def distance(p1,p2):\n",
        "  dx = p2[\"x\"]-p1[\"x\"] \n",
        "  dy = p2[\"y\"]-p1[\"y\"]\n",
        "  return sqrt(dx**2 - dy**2)\n",
        "  \n",
        "\n",
        "def split(array):\n",
        "  n = len(array)\n",
        "  return array[:n//2],array[n//2:]\n",
        "# min distance\n",
        "def closest_pair(px,py):\n",
        "  n = len(px)\n",
        "\n",
        "  # Base case\n",
        "  if n==2:\n",
        "    return distance(px[0],px[1])\n",
        "\n",
        "  qx,rx = split(px) #Left\n",
        "  qy,ry = split(py) #Right\n",
        "\n",
        "  p1,q1 = closest_pair(qx,qy) # Closest Left Pair\n",
        "  p2,q2 = closest_pair(rx,ry) # Closest Right Pair\n",
        "  delta = min(distance(p1,q1),distance(p2,q2))\n",
        "\n",
        "                           # Before calculating closest split pair\n",
        "                           # we need to identify if we are in an unlucky case\n",
        "                           # so we need to calculate the distance of p1,q1 and p2,q2\n",
        "                           # and grab the minimum of both \n",
        "                           # p3,q3 = Closest pair is split(delta)\n",
        "  # Return the best of p1,q1 - p2,q2 - p3,q3\n",
        "  return min(distance(p1,q1),distance(p2,q2),distance(p3,q3))\n",
        "\n",
        "  # Closest split pair\n",
        "  # Sy =  points sorted array Py in range [x-delta : x+delta]\n",
        "  # \n",
        "\n",
        "def closets_split_pair(px,py,delta):\n",
        "  leftX = px[0]\n",
        "  sy = list(filter(lambda point: (point[\"x\"]-delta < point[\"x\"] <point[\"x\"]+delta)))\n",
        "  print(sy)\n",
        "  return \n",
        "\n",
        "\n",
        "def min_distance(array):\n",
        "  #Preprocessing\n",
        "  x_points = sorted(array, key=lambda item: item[\"x\"])\n",
        "  y_points = sorted(array,  key=lambda item: item[\"y\"])\n",
        "\n",
        "  #Distance divide and conquer\n",
        "  # return closest_pair(x_points,y_points)\n",
        "  return closets_split_pair(x_points,y_points,1000)\n",
        "\n",
        "print(min_distance([{\"x\":-1,\"y\":15},{\"x\":0,\"y\":2},{\"x\":1,\"y\":3},{\"x\":2,\"y\":-20},{\"x\":34,\"y\":2},{\"x\":642,\"y\":-1}]))"
      ]
    },
    {
      "cell_type": "code",
      "execution_count": 11,
      "metadata": {},
      "outputs": [
        {
          "name": "stdout",
          "output_type": "stream",
          "text": [
            "[50, 1232, 2324, 3412, 4242]\n",
            "🚀 ~ file: 04_Randomization.ipynb:33 ~ x 1232 50 1182\n",
            "🚀 ~ file: 04_Randomization.ipynb:33 ~ x 2324 1232 1092\n",
            "🚀 ~ file: 04_Randomization.ipynb:33 ~ x 3412 2324 1088\n",
            "🚀 ~ file: 04_Randomization.ipynb:33 ~ x 4242 3412 830\n",
            "830\n"
          ]
        }
      ],
      "source": [
        "# min distance\n",
        "def sort(array):\n",
        "  n = len(array)\n",
        "  if(n>1):\n",
        "    l = sort(array[:n//2])\n",
        "    r = sort(array[n//2:])\n",
        "    i=j=k=0\n",
        "    split=[0 for x in range(n)]\n",
        "    while i < len(l) and j<len(r):\n",
        "      if l[i] < r[j]:\n",
        "        split[k]=l[i]\n",
        "        i+=1\n",
        "      else:\n",
        "        split[k]=r[j]\n",
        "        j+=1\n",
        "      k+=1\n",
        "\n",
        "    while i < len(l):\n",
        "      split[k]=l[i]\n",
        "      i+=1\n",
        "      k+=1\n",
        "\n",
        "    while j < len(r):\n",
        "      split[k]=r[j]\n",
        "      j+=1\n",
        "      k+=1\n",
        "    \n",
        "    return [*split] \n",
        "  return array\n",
        "\n",
        "def min_distance(array):\n",
        "  min= float('inf')\n",
        "  for x in range(1,len(array)):\n",
        "    diff= array[x]-array[x-1]\n",
        "    min = diff if diff< min else min\n",
        "  return min\n",
        "\n",
        "print(sort([50,4242,2324,1232,3412]))\n",
        "print(min_distance(sort([50,4242,2324,1232,3412])))"
      ]
    }
  ],
  "metadata": {
    "kernelspec": {
      "display_name": "Python 3",
      "language": "python",
      "name": "python3"
    },
    "language_info": {
      "codemirror_mode": {
        "name": "ipython",
        "version": 3
      },
      "file_extension": ".py",
      "mimetype": "text/x-python",
      "name": "python",
      "nbconvert_exporter": "python",
      "pygments_lexer": "ipython3",
      "version": "3.11.1"
    },
    "orig_nbformat": 4,
    "vscode": {
      "interpreter": {
        "hash": "fddb92d10c9cf6934e2d5e8f8a29ae8ed7d42a938c47f3b80f7acb86ecc55e76"
      }
    }
  },
  "nbformat": 4,
  "nbformat_minor": 4
}
