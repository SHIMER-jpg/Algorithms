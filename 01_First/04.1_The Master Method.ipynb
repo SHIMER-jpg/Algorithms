{
  "cells": [
    {
      "attachments": {},
      "cell_type": "markdown",
      "metadata": {},
      "source": [
        "### The master method\n",
        "\n",
        "Lets us evaluate potential running time of divide and conquer algorithms\n",
        "Potentially use-full algorithmic ideas often need mathematical analysis to evaluate"
      ]
    },
    {
      "attachments": {
        "image.png": {
          "image/png": "[encoded data removed]"
        }
      },
      "cell_type": "markdown",
      "metadata": {},
      "source": [
        "#### Integer Multiplication revisited\n",
        "_________\n",
        "T(n) = Maximum number of operations this algorithm needs\n",
        "\n",
        "Base Case: T(1)<=some constant\n",
        "\n",
        "For all n>1: T(n)<= 4T(n/2) + O(n)\n",
        "\n",
        ">`4T(n/2)` work done by recrusion\n",
        ">\n",
        ">`O(n)` Work done outside recursive call\n",
        "\n",
        "Extra:\n",
        "\n",
        "![image.png](attachment:image.png)"
      ]
    },
    {
      "cell_type": "markdown",
      "metadata": {},
      "source": []
    },
    {
      "attachments": {},
      "cell_type": "markdown",
      "metadata": {},
      "source": [
        "### Gauss algorithm\n",
        "\n",
        "In this case we have 3 recursion not 4 so then\n",
        "\n",
        "For all n>1: T(n)<= 3T(n/2) + O(n)\n",
        "\n",
        ">`3T(n/2)` work done by recrusion\n",
        ">\n",
        ">`O(n)` Work done outside recursive call\n",
        "\n",
        "The issue here is that we do not have a clue onto how much does the recursive call takes\n",
        "\n",
        "Enter master method\n"
      ]
    },
    {
      "attachments": {},
      "cell_type": "markdown",
      "metadata": {},
      "source": [
        "Assumptions:\n",
        "- Useful for problems in which sub problems are exactly the same size\n",
        "- Recurrence format is composed by base case which leads to a constant and recursive call where\n",
        "  > $$T(n) <= aT(\\frac{n}{b}) + O(n^d)$$\n",
        "  > where:\n",
        "  > - a: number of recursive calls\n",
        "  > - b: input size shrink rate\n",
        "  > - d: exponent in running type outside combining step\n"
      ]
    },
    {
      "attachments": {},
      "cell_type": "markdown",
      "metadata": {},
      "source": [
        "if a = b^d then T(n) = O(n^d log n)\n",
        "\n",
        "if a < b^d then T(n) = O(n^d)\n",
        "\n",
        "if a > b^d then T(n) = O(n^log_b n)\n",
        "\n"
      ]
    },
    {
      "attachments": {},
      "cell_type": "markdown",
      "metadata": {},
      "source": [
        "### Examples\n",
        "_________"
      ]
    },
    {
      "attachments": {},
      "cell_type": "markdown",
      "metadata": {},
      "source": [
        "#### Merge Sort\n",
        "\n",
        "- A= 2 (recursive calls)\n",
        "- B= 2 (how we divide the problem size)\n",
        "- D= 1 (linear sub routine of merging)\n"
      ]
    },
    {
      "attachments": {},
      "cell_type": "markdown",
      "metadata": {},
      "source": [
        "#### Binary Search\n",
        "\n",
        "- A= 1 (recursive calls)\n",
        "- B= 2 (the split we do of the arrays)\n",
        "- D= 0 (no sub routine)\n"
      ]
    },
    {
      "attachments": {},
      "cell_type": "markdown",
      "metadata": {},
      "source": [
        "### Integer multiplication\n",
        "```python\n",
        "def recursive_multiplication(x,y):\n",
        "    # n = len(str(x))-1 if len(str(x))>len(str(y)) else len(str(y))-1\n",
        "    n= 1 if isinstance(x,int) else len(x)\n",
        "\n",
        "    if(n<=1):\n",
        "        return x*y\n",
        "    half_n = n//2\n",
        "    #First n/2 numbers\n",
        "    a,b = decompose(x,half_n)\n",
        "    #Latter n/2 numbers\n",
        "    c,d = decompose(y,half_n)\n",
        "    \n",
        "    coefAC = recursive_multiplication(a,c)\n",
        "    coefBD = recursive_multiplication(b,d)\n",
        "    coefADBC = recursive_multiplication(a+b,c+d) - coefAC - coefBD\n",
        "    \n",
        "    return 10**n * coefAC + 10**half_n *coefADBC + coefBD\n",
        "```\n",
        "\n",
        "* A=3\n",
        "* B=2\n",
        "* C=0"
      ]
    },
    {
      "cell_type": "markdown",
      "metadata": {},
      "source": []
    }
  ],
  "metadata": {
    "kernelspec": {
      "display_name": "Python 3",
      "language": "python",
      "name": "python3"
    },
    "language_info": {
      "codemirror_mode": {
        "name": "ipython",
        "version": 3
      },
      "file_extension": ".py",
      "mimetype": "text/x-python",
      "name": "python",
      "nbconvert_exporter": "python",
      "pygments_lexer": "ipython3",
      "version": "3.11.1 (tags/v3.11.1:a7a450f, Dec  6 2022, 19:58:39) [MSC v.1934 64 bit (AMD64)]"
    },
    "orig_nbformat": 4,
    "vscode": {
      "interpreter": {
        "hash": "8a5edab282632443219e051e4ade2d1d5bbc671c781051bf1437897cbdfea0f1"
      }
    }
  },
  "nbformat": 4,
  "nbformat_minor": 4
}
