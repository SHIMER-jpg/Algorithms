{
  "cells": [
    {
      "attachments": {},
      "cell_type": "markdown",
      "metadata": {},
      "source": [
        "### The closest pair problem\n",
        "\n",
        "Input: A set of points in a real plane with 2 dimensons\n",
        "\n",
        "Euclidian distance: d(pi,pj), where distance $$\\sqrt{(x_{i}-x_{j})^2 + (y_{i}-y_{j})^2 }$$\n",
        "\n",
        "\n",
        "The expected output is a pair of distinct points that has the minimum d(pi,pj)\n",
        "\n",
        "Initial assumptions:\n",
        "  distinct x and y coordinates\n",
        "\n",
        "Brute force: takes O(n^2)\n",
        "\n",
        "For 1 dimensional points we would just sort them and then find if get the minimum distance between a point P and P-1\n",
        "1. Sort Points\n",
        "2. Return closest\n",
        "\n",
        "O(n log n) time\n",
        "\n",
        "1."
      ]
    },
    {
      "cell_type": "code",
      "execution_count": 4,
      "metadata": {},
      "outputs": [
        {
          "name": "stdout",
          "output_type": "stream",
          "text": [
            "({'x': 2, 'y': -20}, {'x': 34, 'y': 2})\n"
          ]
        }
      ],
      "source": [
        "from math import sqrt\n",
        "\n",
        "def calc_euc_distance(p1,p2):\n",
        "  dx = p2[\"x\"]-p1[\"x\"] \n",
        "  dy = p2[\"y\"]-p1[\"y\"]\n",
        "  return sqrt(dx**2 + dy**2)\n",
        "  \n",
        "\n",
        "def split_array(array):\n",
        "  n = len(array)\n",
        "  return array[:n//2],array[n//2:]\n",
        "\n",
        "# min distance\n",
        "def calc_closest_pair(px,py):\n",
        "  n = len(px)\n",
        "  # Base case\n",
        "  if n <= 3: \n",
        "    best=float(\"inf\")\n",
        "    best_pair=float(\"inf\")\n",
        "    for i in range(len(px)):\n",
        "      for j in range(i+1,len(px)):\n",
        "        current_distance=calc_euc_distance(px[i],px[j])\n",
        "        if(current_distance<best):\n",
        "          best =current_distance\n",
        "          best_pair= px[i],px[j]\n",
        "    return best_pair\n",
        "\n",
        "  qx,rx = split_array(px) #Left\n",
        "  qy,ry = split_array(py) #Right\n",
        "\n",
        "  p1,q1 = calc_closest_pair(qx,qy) # Closest Left Pair\n",
        "  left_min_distance = calc_euc_distance(p1,q1)\n",
        "  p2,q2 = calc_closest_pair(rx,ry) # Closest Right Pair\n",
        "  right_min_distance = calc_euc_distance(p1,q1)\n",
        "  delta = min(left_min_distance,right_min_distance)\n",
        "  p3,q3 = calc_closest_split_pair(px,py,delta)\n",
        "  if(p3 != float(\"inf\")):\n",
        "    return p3,q3\n",
        "  if(left_min_distance<right_min_distance):\n",
        "    return p1,q1\n",
        "  else:\n",
        "    return p2,q2\n",
        "\n",
        "\n",
        "def calc_closest_split_pair(px,py,delta):\n",
        "  centerX = px[(len(px)//2)-1] #n/1 -1 is the end of the right side of PX\n",
        "  sy = list(filter(lambda point: (centerX[\"x\"]-delta < point[\"x\"] <centerX[\"x\"]+delta),py))\n",
        "  best = delta\n",
        "  best_pair=float(\"inf\"),float(\"inf\")\n",
        "  for i in range(len(sy)):\n",
        "    for j in range(i+1,min(len(sy)-i,7)):\n",
        "      current_distance=calc_euc_distance(sy[i],sy[j])\n",
        "      if(current_distance<best):\n",
        "        best =current_distance\n",
        "        best_pair= sy[i],sy[j]\n",
        "  return best_pair\n",
        "\n",
        "\n",
        "def min_distance(array):\n",
        "  #Preprocessing\n",
        "  x_points = sorted(array, key=lambda item: item[\"x\"])\n",
        "  y_points = sorted(array,  key=lambda item: item[\"y\"])\n",
        "\n",
        "  #Distance divide and conquer\n",
        "  # return closest_pair(x_points,y_points)\n",
        "  return calc_closest_pair(x_points,y_points)\n",
        "\n",
        "print(min_distance([{\"x\":-1,\"y\":15},{\"x\":0,\"y\":2},{\"x\":1,\"y\":3},{\"x\":2,\"y\":-20},{\"x\":34,\"y\":2},{\"x\":642,\"y\":-1}]))"
      ]
    },
    {
      "cell_type": "code",
      "execution_count": 11,
      "metadata": {},
      "outputs": [
        {
          "name": "stdout",
          "output_type": "stream",
          "text": [
            "[50, 1232, 2324, 3412, 4242]\n",
            "🚀 ~ file: 04_Randomization.ipynb:33 ~ x 1232 50 1182\n",
            "🚀 ~ file: 04_Randomization.ipynb:33 ~ x 2324 1232 1092\n",
            "🚀 ~ file: 04_Randomization.ipynb:33 ~ x 3412 2324 1088\n",
            "🚀 ~ file: 04_Randomization.ipynb:33 ~ x 4242 3412 830\n",
            "830\n"
          ]
        }
      ],
      "source": [
        "# min distance\n",
        "def sort(array):\n",
        "  n = len(array)\n",
        "  if(n>1):\n",
        "    l = sort(array[:n//2])\n",
        "    r = sort(array[n//2:])\n",
        "    i=j=k=0\n",
        "    split=[0 for x in range(n)]\n",
        "    while i < len(l) and j<len(r):\n",
        "      if l[i] < r[j]:\n",
        "        split[k]=l[i]\n",
        "        i+=1\n",
        "      else:\n",
        "        split[k]=r[j]\n",
        "        j+=1\n",
        "      k+=1\n",
        "\n",
        "    while i < len(l):\n",
        "      split[k]=l[i]\n",
        "      i+=1\n",
        "      k+=1\n",
        "\n",
        "    while j < len(r):\n",
        "      split[k]=r[j]\n",
        "      j+=1\n",
        "      k+=1\n",
        "    \n",
        "    return [*split] \n",
        "  return array\n",
        "\n",
        "def min_distance(array):\n",
        "  min= float('inf')\n",
        "  for x in range(1,len(array)):\n",
        "    diff= array[x]-array[x-1]\n",
        "    min = diff if diff< min else min\n",
        "  return min\n",
        "\n",
        "print(sort([50,4242,2324,1232,3412]))\n",
        "print(min_distance(sort([50,4242,2324,1232,3412])))"
      ]
    }
  ],
  "metadata": {
    "kernelspec": {
      "display_name": "Python 3",
      "language": "python",
      "name": "python3"
    },
    "language_info": {
      "codemirror_mode": {
        "name": "ipython",
        "version": 3
      },
      "file_extension": ".py",
      "mimetype": "text/x-python",
      "name": "python",
      "nbconvert_exporter": "python",
      "pygments_lexer": "ipython3",
      "version": "3.11.1 (tags/v3.11.1:a7a450f, Dec  6 2022, 19:58:39) [MSC v.1934 64 bit (AMD64)]"
    },
    "orig_nbformat": 4,
    "vscode": {
      "interpreter": {
        "hash": "fddb92d10c9cf6934e2d5e8f8a29ae8ed7d42a938c47f3b80f7acb86ecc55e76"
      }
    }
  },
  "nbformat": 4,
  "nbformat_minor": 4
}
