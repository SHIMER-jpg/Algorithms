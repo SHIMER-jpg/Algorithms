{
  "cells": [
    {
      "cell_type": "code",
      "execution_count": null,
      "metadata": {},
      "outputs": [],
      "source": [
        "#Perhaps the most important principle for the good algorithm designer is to refuse to be content"
      ]
    },
    {
      "cell_type": "code",
      "execution_count": null,
      "metadata": {
        "trusted": true
      },
      "outputs": [
        {
          "name": "stdout",
          "output_type": "stream",
          "text": [
            "7006652\n"
          ]
        }
      ],
      "source": [
        "# Karakatsuba multiplication\n",
        "# Input two n-digit numbers x and y\n",
        "# Output product of x and y\n",
        "\n",
        "# Primitive operations: add or multiplyu\n",
        "\n",
        "## STEPS \n",
        "## A= 56 B=78 C=12 D=34\n",
        "### 1 Compute the paralels A.C and B.D\n",
        "### 2 Compute the product of the sum of the elements in the same line (A+B)(C+D)\n",
        "### 3 Substract the result from step one to the first step\n",
        "### 4 We sum A*C * 1000, then second line 2 and then the 3rd line + 2 ceros\n",
        "### The amount of 0's is equal to the number length, and the number length in half\n",
        "#### x*y = 10**n ac+ 10**n/2 (ad+bc) + bd\n"
      ]
    },
    {
      "cell_type": "code",
      "execution_count": 1,
      "metadata": {},
      "outputs": [
        {
          "name": "stdout",
          "output_type": "stream",
          "text": [
            "n | a b c d\n",
            "4 | 56 78 12 34\n",
            "7006652\n"
          ]
        }
      ],
      "source": [
        "# Integer multiplication\n",
        "# Input two n-digit numbers x and y\n",
        "# Output product of x and y\n",
        "\n",
        "# Primitive operations: add or multiplyu\n",
        "print(\"n\",\"|\",\"a\",\"b\",\"c\",\"d\")\n",
        "def integer_multiplication(x,y):\n",
        "    n = (len(str(x)))\n",
        "    #First n/2 numbers\n",
        "    a = int(x//10**(n/2))\n",
        "    b = int(x-a*10**(n/2))\n",
        "    #Latter n/2 numbers\n",
        "    c = int(y//10**(n/2))\n",
        "    d = int(y-(c*10**(n/2)))\n",
        "    print(n,\"|\",a,b,c,d)\n",
        "    return x*y\n",
        "\n",
        "print(integer_multiplication(5678,1234)) # operations overall < constant * n**2"
      ]
    },
    {
      "cell_type": "code",
      "execution_count": 9,
      "metadata": {
        "trusted": true
      },
      "outputs": [
        {
          "ename": "TypeError",
          "evalue": "object of type 'int' has no len()",
          "output_type": "error",
          "traceback": [
            "\u001b[1;31m---------------------------------------------------------------------------\u001b[0m",
            "\u001b[1;31mTypeError\u001b[0m                                 Traceback (most recent call last)",
            "Cell \u001b[1;32mIn[9], line 31\u001b[0m\n\u001b[0;32m     28\u001b[0m     \u001b[39mreturn\u001b[39;00m \u001b[39m10\u001b[39m\u001b[39m*\u001b[39m\u001b[39m*\u001b[39mn \u001b[39m*\u001b[39m coefAC \u001b[39m+\u001b[39m \u001b[39m10\u001b[39m\u001b[39m*\u001b[39m\u001b[39m*\u001b[39mhalf_n \u001b[39m*\u001b[39mcoefADBC \u001b[39m+\u001b[39m coefBD\n\u001b[0;32m     30\u001b[0m \u001b[39m# print(recursive_multiplication(134,46))# Recursive multiplication\u001b[39;00m\n\u001b[1;32m---> 31\u001b[0m \u001b[39mprint\u001b[39m(recursive_multiplication(\u001b[39m5678\u001b[39;49m,\u001b[39m1234\u001b[39;49m))\n\u001b[0;32m     32\u001b[0m \u001b[39m# print(recursive_multiplication(3141592653589793238462643383279502884197169399375105820974944592,2718281828459045235360287471352662497757247093699959574966967627))\u001b[39;00m\n",
            "Cell \u001b[1;32mIn[9], line 14\u001b[0m, in \u001b[0;36mrecursive_multiplication\u001b[1;34m(x, y)\u001b[0m\n\u001b[0;32m     12\u001b[0m \u001b[39mdef\u001b[39;00m \u001b[39mrecursive_multiplication\u001b[39m(x,y):\n\u001b[0;32m     13\u001b[0m     \u001b[39m# n = len(str(x))-1 if len(str(x))>len(str(y)) else len(str(y))-1\u001b[39;00m\n\u001b[1;32m---> 14\u001b[0m     n\u001b[39m=\u001b[39m\u001b[39mlen\u001b[39;49m(x)\n\u001b[0;32m     16\u001b[0m     \u001b[39mif\u001b[39;00m(n\u001b[39m<\u001b[39m\u001b[39m=\u001b[39m\u001b[39m1\u001b[39m):\n\u001b[0;32m     17\u001b[0m         \u001b[39mreturn\u001b[39;00m x\u001b[39m*\u001b[39my\n",
            "\u001b[1;31mTypeError\u001b[0m: object of type 'int' has no len()"
          ]
        }
      ],
      "source": [
        "# x*y = 10**n ac+ 10**n/2 (ad+bc) + bd\n",
        "## Base case, numbers that have only one digit\n",
        "### Recursively ac\n",
        "### Recursively bd\n",
        "### Recurisvely (a+b)*(c+d)\n",
        "### Gauss 3-2-1 = ad+bc\n",
        "\n",
        "def decompose(number,half_n):\n",
        "    first = int(number//10**half_n)\n",
        "    return first, (number-(first*10**half_n))\n",
        "\n",
        "def recursive_multiplication(x,y):\n",
        "    # n = len(str(x))-1 if len(str(x))>len(str(y)) else len(str(y))-1\n",
        "    n=x if isInstance(x,int) else len(x)\n",
        "\n",
        "    if(n<=1):\n",
        "        return x*y\n",
        "    half_n = n//2\n",
        "    #First n/2 numbers\n",
        "    a,b = decompose(x,half_n)\n",
        "    #Latter n/2 numbers\n",
        "    c,d = decompose(y,half_n)\n",
        "    \n",
        "    coefAC = recursive_multiplication(a,c)\n",
        "    coefBD = recursive_multiplication(b,d)\n",
        "    coefADBC = recursive_multiplication(a+b,c+d) - coefAC - coefBD\n",
        "    \n",
        "    return 10**n * coefAC + 10**half_n *coefADBC + coefBD\n",
        "\n",
        "# print(recursive_multiplication(134,46))# Recursive multiplication\n",
        "print(recursive_multiplication(5678,1234))\n",
        "# print(recursive_multiplication(3141592653589793238462643383279502884197169399375105820974944592,2718281828459045235360287471352662497757247093699959574966967627))"
      ]
    }
  ],
  "metadata": {
    "kernelspec": {
      "display_name": "Python 3",
      "language": "python",
      "name": "python3"
    },
    "language_info": {
      "codemirror_mode": {
        "name": "ipython",
        "version": 3
      },
      "file_extension": ".py",
      "mimetype": "text/x-python",
      "name": "python",
      "nbconvert_exporter": "python",
      "pygments_lexer": "ipython3",
      "version": "3.11.1"
    },
    "vscode": {
      "interpreter": {
        "hash": "fddb92d10c9cf6934e2d5e8f8a29ae8ed7d42a938c47f3b80f7acb86ecc55e76"
      }
    }
  },
  "nbformat": 4,
  "nbformat_minor": 4
}
