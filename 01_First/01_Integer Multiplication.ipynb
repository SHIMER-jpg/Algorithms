{
  "cells": [
    {
      "cell_type": "code",
      "execution_count": null,
      "metadata": {},
      "outputs": [],
      "source": [
        "#Perhaps the most important principle for the good algorithm designer is to refuse to be content"
      ]
    },
    {
      "cell_type": "code",
      "execution_count": null,
      "metadata": {
        "trusted": true
      },
      "outputs": [
        {
          "name": "stdout",
          "output_type": "stream",
          "text": [
            "7006652\n"
          ]
        }
      ],
      "source": [
        "# Karakatsuba multiplication\n",
        "# Input two n-digit numbers x and y\n",
        "# Output product of x and y\n",
        "\n",
        "# Primitive operations: add or multiplyu\n",
        "\n",
        "## STEPS \n",
        "## A= 56 B=78 C=12 D=34\n",
        "### 1 Compute the paralels A.C and B.D\n",
        "### 2 Compute the product of the sum of the elements in the same line (A+B)(C+D)\n",
        "### 3 Substract the result from step one to the first step\n",
        "### 4 We sum A*C * 1000, then second line 2 and then the 3rd line + 2 ceros\n",
        "### The amount of 0's is equal to the number length, and the number length in half\n",
        "#### x*y = 10**n ac+ 10**n/2 (ad+bc) + bd\n"
      ]
    },
    {
      "cell_type": "code",
      "execution_count": null,
      "metadata": {},
      "outputs": [
        {
          "name": "stdout",
          "output_type": "stream",
          "text": [
            "n | a b c d\n",
            "4 | 56 78 12 34\n",
            "7006652\n"
          ]
        }
      ],
      "source": [
        "# Integer multiplication\n",
        "# Input two n-digit numbers x and y\n",
        "# Output product of x and y\n",
        "\n",
        "# Primitive operations: add or multiplyu\n",
        "print(\"n\",\"|\",\"a\",\"b\",\"c\",\"d\")\n",
        "def integer_multiplication(x,y):\n",
        "    n = (len(str(x)))\n",
        "    #First n/2 numbers\n",
        "    a = int(x//10**(n/2))\n",
        "    b = int(x-a*10**(n/2))\n",
        "    #Latter n/2 numbers\n",
        "    c = int(y//10**(n/2))\n",
        "    d = int(y-(c*10**(n/2)))\n",
        "    print(n,\"|\",a,b,c,d)\n",
        "    return x*y\n",
        "\n",
        "print(integer_multiplication(5678,1234)) # operations overall < constant * n**2"
      ]
    },
    {
      "cell_type": "code",
      "execution_count": 8,
      "metadata": {
        "trusted": true
      },
      "outputs": [
        {
          "name": "stdout",
          "output_type": "stream",
          "text": [
            "85390525423181747621279350296150495552801679913367325013182395779697085186668921977155580943649292540603265720467113460495423184\n"
          ]
        }
      ],
      "source": [
        "# x*y = 10**n ac+ 10**n/2 (ad+bc) + bd\n",
        "## Base case, numbers that have only one digit\n",
        "### Recursively ac\n",
        "### Recursively bd\n",
        "### Recurisvely (a+b)*(c+d)\n",
        "### Gauss 3-2-1 = ad+bc\n",
        "count=0\n",
        "\n",
        "def decompose(number,half_n):\n",
        "    first = int(number//10**half_n)\n",
        "    return first, (number-(first*10**half_n))\n",
        "\n",
        "def recursive_multiplication(x,y):\n",
        "    count=count+1\n",
        "    n = len(str(x))-1 if len(str(x))>len(str(y)) else len(str(y))-1\n",
        "    half_n = n//2\n",
        "    \n",
        "    if(n<=1):\n",
        "        return x*y\n",
        "    aux1,aux2 = decompose(x,half_n)\n",
        "    #First n/2 numbers\n",
        "    a,b = decompose(x,half_n)\n",
        "    #Latter n/2 numbers\n",
        "    c,d = decompose(y,half_n)\n",
        "    \n",
        "    coefAC = recursive_multiplication(a,c)\n",
        "    coefBD = recursive_multiplication(b,d)\n",
        "    coefADBC = recursive_multiplication(a+b,c+d) - coefAC - coefBD\n",
        "    \n",
        "    return 10**n * coefAC + 10**half_n *coefADBC + coefBD\n",
        "\n",
        "# print(recursive_multiplication(134,46))# Recursive multiplication\n",
        "# print(recursive_multiplication(5678,1234))\n",
        "print(recursive_multiplication(3141592653589793238462643383279502884197169399375105820974944592,2718281828459045235360287471352662497757247093699959574966967627))"
      ]
    }
  ],
  "metadata": {
    "kernelspec": {
      "display_name": "Python 3",
      "language": "python",
      "name": "python3"
    },
    "language_info": {
      "codemirror_mode": {
        "name": "python",
        "version": 3
      },
      "file_extension": ".py",
      "mimetype": "text/x-python",
      "name": "python",
      "nbconvert_exporter": "python",
      "pygments_lexer": "ipython3",
      "version": "3.9.13 (main, May 19 2022, 07:22:26)  [GCC 11.3.0 64 bit (AMD64)]"
    },
    "vscode": {
      "interpreter": {
        "hash": "2a8dfe095fce2b5e88c64a2c3ee084c8e0e0d70b23e7b95b1cfb538be294c5c8"
      }
    }
  },
  "nbformat": 4,
  "nbformat_minor": 4
}
